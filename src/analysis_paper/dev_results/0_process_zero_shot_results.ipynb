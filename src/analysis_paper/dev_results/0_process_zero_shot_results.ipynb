{
 "cells": [
  {
   "cell_type": "code",
   "execution_count": 1,
   "metadata": {},
   "outputs": [],
   "source": [
    "import os\n",
    "import pandas as pd\n",
    "import glob"
   ]
  },
  {
   "cell_type": "code",
   "execution_count": 2,
   "metadata": {},
   "outputs": [
    {
     "data": {
      "text/html": [
       "<div>\n",
       "<style scoped>\n",
       "    .dataframe tbody tr th:only-of-type {\n",
       "        vertical-align: middle;\n",
       "    }\n",
       "\n",
       "    .dataframe tbody tr th {\n",
       "        vertical-align: top;\n",
       "    }\n",
       "\n",
       "    .dataframe thead th {\n",
       "        text-align: right;\n",
       "    }\n",
       "</style>\n",
       "<table border=\"1\" class=\"dataframe\">\n",
       "  <thead>\n",
       "    <tr style=\"text-align: right;\">\n",
       "      <th></th>\n",
       "      <th>file</th>\n",
       "      <th>model</th>\n",
       "      <th>prompt_type</th>\n",
       "      <th>prompt_index</th>\n",
       "      <th>split</th>\n",
       "      <th>run</th>\n",
       "      <th>TP</th>\n",
       "      <th>FP</th>\n",
       "      <th>FN</th>\n",
       "      <th>Prec</th>\n",
       "      <th>Rec</th>\n",
       "      <th>F0.5</th>\n",
       "      <th>GLEU</th>\n",
       "      <th>prompt_template</th>\n",
       "    </tr>\n",
       "  </thead>\n",
       "  <tbody>\n",
       "    <tr>\n",
       "      <th>0</th>\n",
       "      <td>results_hyp_post_errantv2-3-3</td>\n",
       "      <td>facebook/opt-iml-max-30b</td>\n",
       "      <td>zero-shot</td>\n",
       "      <td>5</td>\n",
       "      <td>jfleg-dev</td>\n",
       "      <td>1</td>\n",
       "      <td>906</td>\n",
       "      <td>183</td>\n",
       "      <td>933</td>\n",
       "      <td>0.8320</td>\n",
       "      <td>0.4927</td>\n",
       "      <td>0.7312</td>\n",
       "      <td>0.4999374408024636</td>\n",
       "      <td>You are a grammatical error correction tool. Y...</td>\n",
       "    </tr>\n",
       "    <tr>\n",
       "      <th>1</th>\n",
       "      <td>results_hyp_post_errantv2-3-3</td>\n",
       "      <td>facebook/opt-iml-max-30b</td>\n",
       "      <td>zero-shot</td>\n",
       "      <td>9</td>\n",
       "      <td>jfleg-dev</td>\n",
       "      <td>1</td>\n",
       "      <td>884</td>\n",
       "      <td>175</td>\n",
       "      <td>927</td>\n",
       "      <td>0.8347</td>\n",
       "      <td>0.4881</td>\n",
       "      <td>0.7309</td>\n",
       "      <td>0.5009095709785253</td>\n",
       "      <td>Reply with a corrected version of the input se...</td>\n",
       "    </tr>\n",
       "    <tr>\n",
       "      <th>2</th>\n",
       "      <td>results_hyp_post_errantv2-3-3</td>\n",
       "      <td>facebook/opt-iml-max-30b</td>\n",
       "      <td>zero-shot</td>\n",
       "      <td>6</td>\n",
       "      <td>jfleg-dev</td>\n",
       "      <td>1</td>\n",
       "      <td>820</td>\n",
       "      <td>169</td>\n",
       "      <td>975</td>\n",
       "      <td>0.8291</td>\n",
       "      <td>0.4568</td>\n",
       "      <td>0.7129</td>\n",
       "      <td>0.4864613321847736</td>\n",
       "      <td>You are a grammatical error correction tool. Y...</td>\n",
       "    </tr>\n",
       "    <tr>\n",
       "      <th>3</th>\n",
       "      <td>results_hyp_post_errantv2-3-3</td>\n",
       "      <td>gpt-4-0613</td>\n",
       "      <td>zero-shot</td>\n",
       "      <td>5</td>\n",
       "      <td>jfleg-dev</td>\n",
       "      <td>1</td>\n",
       "      <td>1473</td>\n",
       "      <td>654</td>\n",
       "      <td>899</td>\n",
       "      <td>0.6925</td>\n",
       "      <td>0.6210</td>\n",
       "      <td>0.6769</td>\n",
       "      <td>0.5747672157528271</td>\n",
       "      <td>system: You are a grammatical error correction...</td>\n",
       "    </tr>\n",
       "    <tr>\n",
       "      <th>4</th>\n",
       "      <td>results_hyp_post_errantv2-3-3</td>\n",
       "      <td>gpt-4-0613</td>\n",
       "      <td>zero-shot</td>\n",
       "      <td>6</td>\n",
       "      <td>jfleg-dev</td>\n",
       "      <td>1</td>\n",
       "      <td>1456</td>\n",
       "      <td>654</td>\n",
       "      <td>910</td>\n",
       "      <td>0.6900</td>\n",
       "      <td>0.6154</td>\n",
       "      <td>0.6737</td>\n",
       "      <td>0.5730033844225285</td>\n",
       "      <td>system: You are a grammatical error correction...</td>\n",
       "    </tr>\n",
       "  </tbody>\n",
       "</table>\n",
       "</div>"
      ],
      "text/plain": [
       "                            file                     model prompt_type  \\\n",
       "0  results_hyp_post_errantv2-3-3  facebook/opt-iml-max-30b   zero-shot   \n",
       "1  results_hyp_post_errantv2-3-3  facebook/opt-iml-max-30b   zero-shot   \n",
       "2  results_hyp_post_errantv2-3-3  facebook/opt-iml-max-30b   zero-shot   \n",
       "3  results_hyp_post_errantv2-3-3                gpt-4-0613   zero-shot   \n",
       "4  results_hyp_post_errantv2-3-3                gpt-4-0613   zero-shot   \n",
       "\n",
       "   prompt_index      split  run    TP   FP   FN    Prec     Rec    F0.5  \\\n",
       "0             5  jfleg-dev    1   906  183  933  0.8320  0.4927  0.7312   \n",
       "1             9  jfleg-dev    1   884  175  927  0.8347  0.4881  0.7309   \n",
       "2             6  jfleg-dev    1   820  169  975  0.8291  0.4568  0.7129   \n",
       "3             5  jfleg-dev    1  1473  654  899  0.6925  0.6210  0.6769   \n",
       "4             6  jfleg-dev    1  1456  654  910  0.6900  0.6154  0.6737   \n",
       "\n",
       "                 GLEU                                    prompt_template  \n",
       "0  0.4999374408024636  You are a grammatical error correction tool. Y...  \n",
       "1  0.5009095709785253  Reply with a corrected version of the input se...  \n",
       "2  0.4864613321847736  You are a grammatical error correction tool. Y...  \n",
       "3  0.5747672157528271  system: You are a grammatical error correction...  \n",
       "4  0.5730033844225285  system: You are a grammatical error correction...  "
      ]
     },
     "execution_count": 2,
     "metadata": {},
     "output_type": "execute_result"
    }
   ],
   "source": [
    "# load csv as dataframe\n",
    "df = pd.read_csv('../../../paper_output/output_zero_shot_dev/results.csv')\n",
    "df.head()"
   ]
  },
  {
   "cell_type": "code",
   "execution_count": 3,
   "metadata": {},
   "outputs": [],
   "source": [
    "# increase all prompt_index by 1\n",
    "df['prompt_index'] = df['prompt_index'] + 1"
   ]
  },
  {
   "cell_type": "code",
   "execution_count": 4,
   "metadata": {},
   "outputs": [],
   "source": [
    "# convert GLEU column to float or NaN\n",
    "df['GLEU'] = pd.to_numeric(df['GLEU'], errors='coerce')"
   ]
  },
  {
   "cell_type": "code",
   "execution_count": 5,
   "metadata": {},
   "outputs": [
    {
     "data": {
      "text/plain": [
       "array(['zero-shot'], dtype=object)"
      ]
     },
     "execution_count": 5,
     "metadata": {},
     "output_type": "execute_result"
    }
   ],
   "source": [
    "# format prompt_type to use first two parts\n",
    "df['prompt_type'] = df['prompt_type'].str.split('-').str[0:2].str.join('-')\n",
    "df.prompt_type.unique()"
   ]
  },
  {
   "cell_type": "code",
   "execution_count": 6,
   "metadata": {},
   "outputs": [],
   "source": [
    "# take only zero-shot prompts\n",
    "df_zero_shot = df[df['prompt_type'].str.contains('zero-shot')]"
   ]
  },
  {
   "cell_type": "code",
   "execution_count": 7,
   "metadata": {},
   "outputs": [
    {
     "data": {
      "text/plain": [
       "array(['zero-shot'], dtype=object)"
      ]
     },
     "execution_count": 7,
     "metadata": {},
     "output_type": "execute_result"
    }
   ],
   "source": [
    "df_zero_shot.prompt_type.unique()"
   ]
  },
  {
   "cell_type": "code",
   "execution_count": 8,
   "metadata": {},
   "outputs": [],
   "source": [
    "# rename \"zero-shot\" to \"0-shot\" in prompt_type column\n",
    "df_zero_shot['prompt_type'] = df_zero_shot['prompt_type'].astype(str).str.replace('zero-shot', '0-shot')"
   ]
  },
  {
   "cell_type": "code",
   "execution_count": 9,
   "metadata": {},
   "outputs": [
    {
     "data": {
      "text/plain": [
       "array(['0-shot'], dtype=object)"
      ]
     },
     "execution_count": 9,
     "metadata": {},
     "output_type": "execute_result"
    }
   ],
   "source": [
    "df_zero_shot.prompt_type.unique()"
   ]
  },
  {
   "cell_type": "code",
   "execution_count": 10,
   "metadata": {},
   "outputs": [
    {
     "data": {
      "text/plain": [
       "array(['0-shot_6', '0-shot_10', '0-shot_7', '0-shot_8', '0-shot_5',\n",
       "       '0-shot_11', '0-shot_3'], dtype=object)"
      ]
     },
     "execution_count": 10,
     "metadata": {},
     "output_type": "execute_result"
    }
   ],
   "source": [
    "# create prompt_type_index column\n",
    "df_zero_shot['prompt_type_index'] = df_zero_shot['prompt_type'] + '_' + df_zero_shot['prompt_index'].astype(str)\n",
    "df_zero_shot['prompt_type_index'].unique()"
   ]
  },
  {
   "cell_type": "code",
   "execution_count": 11,
   "metadata": {},
   "outputs": [
    {
     "data": {
      "text/plain": [
       "array(['facebook/opt-iml-max-30b', 'gpt-4-0613', 'google/flan-t5-xxl',\n",
       "       'gpt-3.5-turbo-0613', 'stabilityai/StableBeluga2',\n",
       "       'tiiuae/falcon-40b-instruct', 'command',\n",
       "       'meta-llama/Llama-2-70b-chat-hf', 'Writer/InstructPalmyra-20b',\n",
       "       'bigscience/bloomz-7b1'], dtype=object)"
      ]
     },
     "execution_count": 11,
     "metadata": {},
     "output_type": "execute_result"
    }
   ],
   "source": [
    "df_zero_shot.model.unique()"
   ]
  },
  {
   "cell_type": "code",
   "execution_count": 12,
   "metadata": {},
   "outputs": [],
   "source": [
    "# save all zero-shot results to csv\n",
    "df_zero_shot.to_csv('../zero_shot_dev_results.csv', index=False)"
   ]
  },
  {
   "cell_type": "code",
   "execution_count": null,
   "metadata": {},
   "outputs": [],
   "source": []
  }
 ],
 "metadata": {
  "kernelspec": {
   "display_name": "gec-prompting-errant",
   "language": "python",
   "name": "python3"
  },
  "language_info": {
   "codemirror_mode": {
    "name": "ipython",
    "version": 3
   },
   "file_extension": ".py",
   "mimetype": "text/x-python",
   "name": "python",
   "nbconvert_exporter": "python",
   "pygments_lexer": "ipython3",
   "version": "3.11.4"
  }
 },
 "nbformat": 4,
 "nbformat_minor": 2
}
