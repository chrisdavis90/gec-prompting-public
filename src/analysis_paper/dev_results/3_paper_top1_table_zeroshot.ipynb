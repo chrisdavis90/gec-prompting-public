{
 "cells": [
  {
   "cell_type": "code",
   "execution_count": 1,
   "metadata": {},
   "outputs": [],
   "source": [
    "import pandas as pd\n",
    "import os\n",
    "import glob\n",
    "import matplotlib.pyplot as plt\n",
    "import json"
   ]
  },
  {
   "cell_type": "code",
   "execution_count": 2,
   "metadata": {},
   "outputs": [
    {
     "data": {
      "text/html": [
       "<div>\n",
       "<style scoped>\n",
       "    .dataframe tbody tr th:only-of-type {\n",
       "        vertical-align: middle;\n",
       "    }\n",
       "\n",
       "    .dataframe tbody tr th {\n",
       "        vertical-align: top;\n",
       "    }\n",
       "\n",
       "    .dataframe thead th {\n",
       "        text-align: right;\n",
       "    }\n",
       "</style>\n",
       "<table border=\"1\" class=\"dataframe\">\n",
       "  <thead>\n",
       "    <tr style=\"text-align: right;\">\n",
       "      <th></th>\n",
       "      <th>model</th>\n",
       "      <th>prompt_type_index</th>\n",
       "      <th>GLEU</th>\n",
       "      <th>split</th>\n",
       "      <th>F0.5</th>\n",
       "    </tr>\n",
       "  </thead>\n",
       "  <tbody>\n",
       "    <tr>\n",
       "      <th>0</th>\n",
       "      <td>facebook/opt-iml-max-30b</td>\n",
       "      <td>0-shot_10</td>\n",
       "      <td>0.501</td>\n",
       "      <td>jfleg-dev</td>\n",
       "      <td>NaN</td>\n",
       "    </tr>\n",
       "    <tr>\n",
       "      <th>1</th>\n",
       "      <td>gpt-4-0613</td>\n",
       "      <td>0-shot_8</td>\n",
       "      <td>0.582</td>\n",
       "      <td>jfleg-dev</td>\n",
       "      <td>NaN</td>\n",
       "    </tr>\n",
       "    <tr>\n",
       "      <th>2</th>\n",
       "      <td>google/flan-t5-xxl</td>\n",
       "      <td>0-shot_5</td>\n",
       "      <td>0.459</td>\n",
       "      <td>jfleg-dev</td>\n",
       "      <td>NaN</td>\n",
       "    </tr>\n",
       "    <tr>\n",
       "      <th>3</th>\n",
       "      <td>gpt-3.5-turbo-0613</td>\n",
       "      <td>0-shot_10</td>\n",
       "      <td>0.574</td>\n",
       "      <td>jfleg-dev</td>\n",
       "      <td>NaN</td>\n",
       "    </tr>\n",
       "    <tr>\n",
       "      <th>4</th>\n",
       "      <td>tiiuae/falcon-40b-instruct</td>\n",
       "      <td>0-shot_6</td>\n",
       "      <td>0.541</td>\n",
       "      <td>jfleg-dev</td>\n",
       "      <td>NaN</td>\n",
       "    </tr>\n",
       "  </tbody>\n",
       "</table>\n",
       "</div>"
      ],
      "text/plain": [
       "                        model prompt_type_index   GLEU      split  F0.5\n",
       "0    facebook/opt-iml-max-30b         0-shot_10  0.501  jfleg-dev   NaN\n",
       "1                  gpt-4-0613          0-shot_8  0.582  jfleg-dev   NaN\n",
       "2          google/flan-t5-xxl          0-shot_5  0.459  jfleg-dev   NaN\n",
       "3          gpt-3.5-turbo-0613         0-shot_10  0.574  jfleg-dev   NaN\n",
       "4  tiiuae/falcon-40b-instruct          0-shot_6  0.541  jfleg-dev   NaN"
      ]
     },
     "execution_count": 2,
     "metadata": {},
     "output_type": "execute_result"
    }
   ],
   "source": [
    "# load csv as dataframe\n",
    "df = pd.read_csv('../best_zero_shot_dev_results.csv')\n",
    "df.head()"
   ]
  },
  {
   "cell_type": "code",
   "execution_count": 3,
   "metadata": {},
   "outputs": [
    {
     "data": {
      "text/plain": [
       "array(['facebook/opt-iml-max-30b', 'gpt-4-0613', 'google/flan-t5-xxl',\n",
       "       'gpt-3.5-turbo-0613', 'tiiuae/falcon-40b-instruct',\n",
       "       'stabilityai/StableBeluga2', 'command',\n",
       "       'meta-llama/Llama-2-70b-chat-hf', 'Writer/InstructPalmyra-20b',\n",
       "       'bigscience/bloomz-7b1'], dtype=object)"
      ]
     },
     "execution_count": 3,
     "metadata": {},
     "output_type": "execute_result"
    }
   ],
   "source": [
    "all_models = df.model.unique()\n",
    "all_models"
   ]
  },
  {
   "cell_type": "code",
   "execution_count": 4,
   "metadata": {},
   "outputs": [
    {
     "data": {
      "text/plain": [
       "array(['jfleg-dev', 'wibea-dev', 'fce-dev'], dtype=object)"
      ]
     },
     "execution_count": 4,
     "metadata": {},
     "output_type": "execute_result"
    }
   ],
   "source": [
    "splits = df.split.unique()\n",
    "splits"
   ]
  },
  {
   "cell_type": "code",
   "execution_count": 5,
   "metadata": {},
   "outputs": [],
   "source": [
    "# write a latex row using the format\n",
    "# where each row is a model and each column is a split\n",
    "def write_latex_row_subcript(df, model, metric):\n",
    "    # metric = 'F0.5' if 'jfleg' not in split else 'GLEU'\n",
    "    \n",
    "    # get the metric value for the model from the df\n",
    "    metric_value = df[df['model'] == model][metric].values[0]\n",
    "    \n",
    "    # check if metric_value is the max value for this dataframe\n",
    "    max_metric_value = df[metric].max()\n",
    "    if metric_value == max_metric_value:\n",
    "        metric_value = '\\\\textbf{' + '{:.3f}'.format(metric_value) + '}'\n",
    "    else:\n",
    "        metric_value = '{:.3f}'.format(metric_value)\n",
    "\n",
    "    # get the prompt_index for the model from the df\n",
    "    prompt_type_index = df[df['model'] == model]['prompt_type_index'].values[0]\n",
    "    prompt_index = prompt_type_index.split('_')[1]\n",
    "\n",
    "    if prompt_index == '5':\n",
    "        prompt_index = '\\\\textsc{elt}'\n",
    "    elif prompt_index in ['6', '7']:\n",
    "        prompt_index = '\\\\textsc{tool}'\n",
    "    elif prompt_index == '8':\n",
    "        prompt_index = '\\\\textsc{dn}'\n",
    "    elif prompt_index == '10':\n",
    "        prompt_index = '\\\\textsc{cyn}'\n",
    "\n",
    "    # write the latex row\n",
    "    return f'{str(metric_value)}$_{{{str(prompt_index)}}}$'"
   ]
  },
  {
   "cell_type": "code",
   "execution_count": 6,
   "metadata": {},
   "outputs": [
    {
     "data": {
      "text/html": [
       "<div>\n",
       "<style scoped>\n",
       "    .dataframe tbody tr th:only-of-type {\n",
       "        vertical-align: middle;\n",
       "    }\n",
       "\n",
       "    .dataframe tbody tr th {\n",
       "        vertical-align: top;\n",
       "    }\n",
       "\n",
       "    .dataframe thead th {\n",
       "        text-align: right;\n",
       "    }\n",
       "</style>\n",
       "<table border=\"1\" class=\"dataframe\">\n",
       "  <thead>\n",
       "    <tr style=\"text-align: right;\">\n",
       "      <th></th>\n",
       "      <th>model</th>\n",
       "      <th>prompt_type_index</th>\n",
       "      <th>GLEU</th>\n",
       "      <th>split</th>\n",
       "      <th>F0.5</th>\n",
       "    </tr>\n",
       "  </thead>\n",
       "  <tbody>\n",
       "    <tr>\n",
       "      <th>20</th>\n",
       "      <td>gpt-4-0613</td>\n",
       "      <td>0-shot_7</td>\n",
       "      <td>NaN</td>\n",
       "      <td>fce-dev</td>\n",
       "      <td>0.474</td>\n",
       "    </tr>\n",
       "    <tr>\n",
       "      <th>21</th>\n",
       "      <td>google/flan-t5-xxl</td>\n",
       "      <td>0-shot_6</td>\n",
       "      <td>NaN</td>\n",
       "      <td>fce-dev</td>\n",
       "      <td>0.424</td>\n",
       "    </tr>\n",
       "    <tr>\n",
       "      <th>22</th>\n",
       "      <td>gpt-3.5-turbo-0613</td>\n",
       "      <td>0-shot_5</td>\n",
       "      <td>NaN</td>\n",
       "      <td>fce-dev</td>\n",
       "      <td>0.416</td>\n",
       "    </tr>\n",
       "    <tr>\n",
       "      <th>23</th>\n",
       "      <td>tiiuae/falcon-40b-instruct</td>\n",
       "      <td>0-shot_7</td>\n",
       "      <td>NaN</td>\n",
       "      <td>fce-dev</td>\n",
       "      <td>0.406</td>\n",
       "    </tr>\n",
       "    <tr>\n",
       "      <th>24</th>\n",
       "      <td>stabilityai/StableBeluga2</td>\n",
       "      <td>0-shot_7</td>\n",
       "      <td>NaN</td>\n",
       "      <td>fce-dev</td>\n",
       "      <td>0.403</td>\n",
       "    </tr>\n",
       "    <tr>\n",
       "      <th>25</th>\n",
       "      <td>facebook/opt-iml-max-30b</td>\n",
       "      <td>0-shot_7</td>\n",
       "      <td>NaN</td>\n",
       "      <td>fce-dev</td>\n",
       "      <td>0.395</td>\n",
       "    </tr>\n",
       "    <tr>\n",
       "      <th>26</th>\n",
       "      <td>command</td>\n",
       "      <td>0-shot_6</td>\n",
       "      <td>NaN</td>\n",
       "      <td>fce-dev</td>\n",
       "      <td>0.353</td>\n",
       "    </tr>\n",
       "    <tr>\n",
       "      <th>27</th>\n",
       "      <td>meta-llama/Llama-2-70b-chat-hf</td>\n",
       "      <td>0-shot_6</td>\n",
       "      <td>NaN</td>\n",
       "      <td>fce-dev</td>\n",
       "      <td>0.323</td>\n",
       "    </tr>\n",
       "    <tr>\n",
       "      <th>28</th>\n",
       "      <td>Writer/InstructPalmyra-20b</td>\n",
       "      <td>0-shot_5</td>\n",
       "      <td>NaN</td>\n",
       "      <td>fce-dev</td>\n",
       "      <td>0.309</td>\n",
       "    </tr>\n",
       "    <tr>\n",
       "      <th>29</th>\n",
       "      <td>bigscience/bloomz-7b1</td>\n",
       "      <td>0-shot_10</td>\n",
       "      <td>NaN</td>\n",
       "      <td>fce-dev</td>\n",
       "      <td>0.282</td>\n",
       "    </tr>\n",
       "  </tbody>\n",
       "</table>\n",
       "</div>"
      ],
      "text/plain": [
       "                             model prompt_type_index  GLEU    split   F0.5\n",
       "20                      gpt-4-0613          0-shot_7   NaN  fce-dev  0.474\n",
       "21              google/flan-t5-xxl          0-shot_6   NaN  fce-dev  0.424\n",
       "22              gpt-3.5-turbo-0613          0-shot_5   NaN  fce-dev  0.416\n",
       "23      tiiuae/falcon-40b-instruct          0-shot_7   NaN  fce-dev  0.406\n",
       "24       stabilityai/StableBeluga2          0-shot_7   NaN  fce-dev  0.403\n",
       "25        facebook/opt-iml-max-30b          0-shot_7   NaN  fce-dev  0.395\n",
       "26                         command          0-shot_6   NaN  fce-dev  0.353\n",
       "27  meta-llama/Llama-2-70b-chat-hf          0-shot_6   NaN  fce-dev  0.323\n",
       "28      Writer/InstructPalmyra-20b          0-shot_5   NaN  fce-dev  0.309\n",
       "29           bigscience/bloomz-7b1         0-shot_10   NaN  fce-dev  0.282"
      ]
     },
     "execution_count": 6,
     "metadata": {},
     "output_type": "execute_result"
    }
   ],
   "source": [
    "df[df['split'] == 'fce-dev']"
   ]
  },
  {
   "cell_type": "code",
   "execution_count": 7,
   "metadata": {},
   "outputs": [
    {
     "name": "stdout",
     "output_type": "stream",
     "text": [
      "bloomz-7b1 & 0.282$_{\\textsc{cyn}}$ & 0.402$_{\\textsc{cyn}}$ & 0.226$_{\\textsc{cyn}}$ \\\\\n",
      "flan-t5-xxl & 0.424$_{\\textsc{tool}}$ & 0.459$_{\\textsc{elt}}$ & 0.408$_{\\textsc{elt}}$ \\\\\n",
      "InstructPalmyra-20b & 0.309$_{\\textsc{elt}}$ & 0.517$_{\\textsc{tool}}$ & 0.352$_{\\textsc{elt}}$ \\\\\n",
      "opt-iml-max-30b & 0.395$_{\\textsc{tool}}$ & 0.501$_{\\textsc{cyn}}$ & 0.372$_{\\textsc{cyn}}$ \\\\\n",
      "falcon-40b-instruct & 0.406$_{\\textsc{tool}}$ & 0.541$_{\\textsc{tool}}$ & 0.450$_{\\textsc{tool}}$ \\\\\n",
      "Llama-2-70b-chat-hf & 0.323$_{\\textsc{tool}}$ & 0.500$_{\\textsc{tool}}$ & 0.359$_{\\textsc{tool}}$ \\\\\n",
      "StableBeluga2 & 0.403$_{\\textsc{tool}}$ & 0.563$_{\\textsc{cyn}}$ & 0.447$_{\\textsc{tool}}$ \\\\\n",
      "command & 0.353$_{\\textsc{tool}}$ & 0.535$_{\\textsc{cyn}}$ & 0.391$_{\\textsc{tool}}$ \\\\\n",
      "gpt-3.5-turbo-0613 & 0.416$_{\\textsc{elt}}$ & 0.574$_{\\textsc{cyn}}$ & 0.434$_{\\textsc{elt}}$ \\\\\n",
      "gpt-4-0613 & \\textbf{0.474}$_{\\textsc{tool}}$ & \\textbf{0.582}$_{\\textsc{dn}}$ & \\textbf{0.510}$_{\\textsc{tool}}$ \\\\\n"
     ]
    }
   ],
   "source": [
    "\n",
    "# write the latex table\n",
    "# print(' & '.join([''] + [split for split in sorted(splits)]) + ' \\\\\\\\')\n",
    "\n",
    "model_order = [\n",
    "    'bigscience/bloomz-7b1',\n",
    "    'google/flan-t5-xxl',\n",
    "    'Writer/InstructPalmyra-20b',\n",
    "    'facebook/opt-iml-max-30b',\n",
    "    'tiiuae/falcon-40b-instruct',\n",
    "    'meta-llama/Llama-2-70b-chat-hf',\n",
    "    'stabilityai/StableBeluga2',\n",
    "    'command', \n",
    "    'gpt-3.5-turbo-0613',\n",
    "    'gpt-4-0613',\n",
    "    ]\n",
    "\n",
    "for model in model_order:\n",
    "    if model not in df.model.unique():\n",
    "        continue\n",
    "    model_name = model.split('/')[-1]\n",
    "    row = [model_name]\n",
    "    for split in sorted(splits):\n",
    "        df_split_temp = df[df['split'] == split]\n",
    "        metric = 'F0.5' if 'jfleg' not in split else 'GLEU'\n",
    "        row.append(write_latex_row_subcript(df_split_temp, model, metric))\n",
    "    \n",
    "    print(' & '.join(row) + ' \\\\\\\\')\n",
    "    # print('\\\\hline')"
   ]
  }
 ],
 "metadata": {
  "kernelspec": {
   "display_name": "gec-prompting-errant",
   "language": "python",
   "name": "python3"
  },
  "language_info": {
   "codemirror_mode": {
    "name": "ipython",
    "version": 3
   },
   "file_extension": ".py",
   "mimetype": "text/x-python",
   "name": "python",
   "nbconvert_exporter": "python",
   "pygments_lexer": "ipython3",
   "version": "3.11.4"
  },
  "orig_nbformat": 4
 },
 "nbformat": 4,
 "nbformat_minor": 2
}
