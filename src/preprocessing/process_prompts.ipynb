{
 "cells": [
  {
   "cell_type": "code",
   "execution_count": 7,
   "metadata": {},
   "outputs": [],
   "source": [
    "import pandas as pd\n",
    "import json\n",
    "import os"
   ]
  },
  {
   "cell_type": "code",
   "execution_count": 2,
   "metadata": {},
   "outputs": [
    {
     "data": {
      "text/html": [
       "<div>\n",
       "<style scoped>\n",
       "    .dataframe tbody tr th:only-of-type {\n",
       "        vertical-align: middle;\n",
       "    }\n",
       "\n",
       "    .dataframe tbody tr th {\n",
       "        vertical-align: top;\n",
       "    }\n",
       "\n",
       "    .dataframe thead th {\n",
       "        text-align: right;\n",
       "    }\n",
       "</style>\n",
       "<table border=\"1\" class=\"dataframe\">\n",
       "  <thead>\n",
       "    <tr style=\"text-align: right;\">\n",
       "      <th></th>\n",
       "      <th>Timestamp</th>\n",
       "      <th>Name</th>\n",
       "      <th>Prompt text</th>\n",
       "      <th>shot_type</th>\n",
       "      <th>If few-shot, how many examples did you include?</th>\n",
       "      <th>Did you take inspiration from a paper/previous work? If so, include the reference here.</th>\n",
       "      <th>Anything else you would like to add:</th>\n",
       "    </tr>\n",
       "  </thead>\n",
       "  <tbody>\n",
       "    <tr>\n",
       "      <th>0</th>\n",
       "      <td>7/17/2023 21:58:55</td>\n",
       "      <td>Andrew Caines</td>\n",
       "      <td>Reply with a corrected version of the input se...</td>\n",
       "      <td>Few-shot</td>\n",
       "      <td>2.0</td>\n",
       "      <td>Coyne et al, Analyzing the Performance of GPT-...</td>\n",
       "      <td>I'll have a think and add some more, but wante...</td>\n",
       "    </tr>\n",
       "    <tr>\n",
       "      <th>1</th>\n",
       "      <td>7/20/2023 7:55:19</td>\n",
       "      <td>ChrisB</td>\n",
       "      <td>Correct the errors. Do not paraphrase.</td>\n",
       "      <td>Zero-shot</td>\n",
       "      <td>0.0</td>\n",
       "      <td>No</td>\n",
       "      <td>I didn't try the prompt - just coming up with ...</td>\n",
       "    </tr>\n",
       "    <tr>\n",
       "      <th>2</th>\n",
       "      <td>7/20/2023 7:56:10</td>\n",
       "      <td>ChrisB</td>\n",
       "      <td>Grammar.</td>\n",
       "      <td>Zero-shot</td>\n",
       "      <td>0.0</td>\n",
       "      <td>No</td>\n",
       "      <td>I didn't try the prompt - just coming up with ...</td>\n",
       "    </tr>\n",
       "    <tr>\n",
       "      <th>3</th>\n",
       "      <td>7/20/2023 7:59:34</td>\n",
       "      <td>ChrisB</td>\n",
       "      <td>Make minimal changes to the following text suc...</td>\n",
       "      <td>Zero-shot</td>\n",
       "      <td>0.0</td>\n",
       "      <td>no</td>\n",
       "      <td>I didn't try the prompt - just coming up with ...</td>\n",
       "    </tr>\n",
       "    <tr>\n",
       "      <th>4</th>\n",
       "      <td>7/20/2023 8:02:19</td>\n",
       "      <td>ChrisB</td>\n",
       "      <td>You are an English language teacher. A student...</td>\n",
       "      <td>Zero-shot</td>\n",
       "      <td>0.0</td>\n",
       "      <td>no</td>\n",
       "      <td>I didn't try the prompt - just coming up with ...</td>\n",
       "    </tr>\n",
       "  </tbody>\n",
       "</table>\n",
       "</div>"
      ],
      "text/plain": [
       "            Timestamp           Name  \\\n",
       "0  7/17/2023 21:58:55  Andrew Caines   \n",
       "1   7/20/2023 7:55:19         ChrisB   \n",
       "2   7/20/2023 7:56:10         ChrisB   \n",
       "3   7/20/2023 7:59:34         ChrisB   \n",
       "4   7/20/2023 8:02:19         ChrisB   \n",
       "\n",
       "                                         Prompt text  shot_type  \\\n",
       "0  Reply with a corrected version of the input se...   Few-shot   \n",
       "1             Correct the errors. Do not paraphrase.  Zero-shot   \n",
       "2                                          Grammar.   Zero-shot   \n",
       "3  Make minimal changes to the following text suc...  Zero-shot   \n",
       "4  You are an English language teacher. A student...  Zero-shot   \n",
       "\n",
       "   If few-shot, how many examples did you include?  \\\n",
       "0                                              2.0   \n",
       "1                                              0.0   \n",
       "2                                              0.0   \n",
       "3                                              0.0   \n",
       "4                                              0.0   \n",
       "\n",
       "  Did you take inspiration from a paper/previous work? If so, include the reference here.  \\\n",
       "0  Coyne et al, Analyzing the Performance of GPT-...                                        \n",
       "1                                                 No                                        \n",
       "2                                                 No                                        \n",
       "3                                                 no                                        \n",
       "4                                                 no                                        \n",
       "\n",
       "                Anything else you would like to add:  \n",
       "0  I'll have a think and add some more, but wante...  \n",
       "1  I didn't try the prompt - just coming up with ...  \n",
       "2  I didn't try the prompt - just coming up with ...  \n",
       "3  I didn't try the prompt - just coming up with ...  \n",
       "4  I didn't try the prompt - just coming up with ...  "
      ]
     },
     "execution_count": 2,
     "metadata": {},
     "output_type": "execute_result"
    }
   ],
   "source": [
    "\n",
    "# Read in the prompts\n",
    "prompts = pd.read_csv('src/prompts/raw_prompts/gec_prompt_submissions.csv', sep=',')\n",
    "\n",
    "prompts = prompts.rename(columns={'Is your prompt zero- or few-shot?': 'shot_type'})\n",
    "\n",
    "prompts.head()"
   ]
  },
  {
   "cell_type": "code",
   "execution_count": 3,
   "metadata": {},
   "outputs": [],
   "source": [
    "# select rows where shot_type is not 'few-shot' and select only the prompt text column as a list\n",
    "zeroshot_prompts = prompts.loc[prompts['shot_type'] == 'Zero-shot']['Prompt text'].tolist()\n",
    "fewshot_prompts = prompts.loc[prompts['shot_type'] == 'Few-shot']['Prompt text'].tolist()"
   ]
  },
  {
   "cell_type": "code",
   "execution_count": 4,
   "metadata": {},
   "outputs": [
    {
     "data": {
      "text/plain": [
       "['Correct the errors. Do not paraphrase.',\n",
       " 'Grammar. ',\n",
       " 'Make minimal changes to the following text such that it is grammatically correct.',\n",
       " 'You are an English language teacher. A student has sent you the following essay. \\n{text}\\nCorrect the errors in the essay that will best help the student to learn from their mistakes.',\n",
       " 'You are an English language teacher. A student has sent you the following text. \\n{text}\\nProvide a grammatical correction for the text, making only necessary changes. Do not provide any additional comments or explanations. If the input text is already correct, return it unchanged.',\n",
       " 'You are a grammatical error correction tool. Your task is to correct the grammaticality and spelling in the input sentence. Make the smallest possible change in order to make the sentence grammatically correct. Change as few words as possible. Do not rephrase parts of the sentence that are already grammatical. Do not change the meaning of the sentence by adding or removing information. If the sentence is already grammatically correct, you should output the original sentence without changing anything. \\n\\nInput sentence: {text}\\nOutput sentence: ',\n",
       " 'You are a grammatical error correction tool. Your task is to correct the grammaticality and spelling in the input sentence. Make the smallest possible change in order to make the sentence grammatically correct. Change as few words as possible. Do not rephrase parts of the sentence that are already grammatical. Do not change the meaning of the sentence by adding or removing information. If the sentence is already grammatically correct, you should output the original sentence without changing anything. \\n\\nInput sentence: \"{text}\"\\nOutput sentence: \"',\n",
       " 'Please correct the following text.  Do not attempt to rewrite it into perfect English or to interpret the text. Often, things could be expressed better by paraphrase, but the task is to make minimal changes to correct the text.  Do not change anything that is correct.  Please make no changes if there are no errors.',\n",
       " 'Correct this to standard English:']"
      ]
     },
     "execution_count": 4,
     "metadata": {},
     "output_type": "execute_result"
    }
   ],
   "source": [
    "zeroshot_prompts"
   ]
  },
  {
   "cell_type": "code",
   "execution_count": 5,
   "metadata": {},
   "outputs": [
    {
     "data": {
      "text/plain": [
       "['Reply with a corrected version of the input sentence with all grammatical and spelling errors fixed. If there are no errors, reply with a copy of the original sentence.\\n\\nInput sentence: I think smoke should to be ban in all restarants. \\nCorrected sentence: I think smoking should be banned at all restaurants.\\n\\nInput sentence: We discussed about the issu.\\nCorrected sentence: We discussed the issue.\\n\\nInput sentence: {text}\\nCorrected sentence:',\n",
       " 'You are a grammatical error correction tool. Your task is to correct the grammaticality and spelling in the input sentence. Make the smallest possible change in order to make the sentence grammatically correct. Change as few words as possible. Do not rephrase parts of the sentence that are already grammatical. Do not change the meaning of the sentence by adding or removing information. If the sentence is already grammatically correct, you should output the original sentence without changing anything. \\n\\nHere are some example corrections.\\n\\nInput sentence: \"I love this sport. I look forward to the weakened, to go out with my bike and my group of friends.\"\\nCorrected sentence: \"I love this sport. I look forward to the weekend to go out with my bike and my group of friends.\"\\n\\nInput sentence: \"Lucy Keyes was the last thriller I\\'ve seen.\"\\nCorrected sentence: \"Lucy Keyes was the last thriller I saw.\"\\n\\nInput sentence: \"In the biggest cities around the world the traffic nonstop and increase every day.\"\\nCorrected sentence: \"In the biggest cities around the world, the traffic is nonstop and increasing every day.\"\\n\\nInput sentence: \"Also, the satisfaction of the customers pushes me to work harder and be better at my job.\"\\nCorrected sentence: \"Also, the satisfaction of the customers pushes me to work harder and be better at my job.\"\\n\\nInput sentence: \"{text}\"\\nOutput sentence: \"',\n",
       " 'You are a grammatical error correction tool. Your task is to correct the grammaticality and spelling in the input sentence. Make the smallest possible change in order to make the sentence grammatically correct. Change as few words as possible. Do not rephrase parts of the sentence that are already grammatical. Do not change the meaning of the sentence by adding or removing information. If the sentence is already grammatically correct, you should output the original sentence without changing anything. \\n\\nHere are some example corrections.\\n\\nInput sentence: \"I love this sport. I look forward to the weakened, to go out with my bike and my group of friends.\"\\nAnalysis: The context indicates that the sentence is about the speaker\\'s anticipation for the weekend, therefore \"weakened\" is probably a misspelling and should be corrected to \"weekend\". The comma should also be removed, as the conjunction \"to\" already binds the two sentence parts together.\\nCorrected sentence: \"I love this sport. I look forward to the weekend to go out with my bike and my group of friends.\"\\n\\nInput sentence: \"Lucy Keyes was the last thriller I\\'ve seen.\"\\nAnalysis: The input sentence implies that the action of watching the movie \"Lucy Keyes\" is ongoing or has relevance to the present, which is not the case. The past simple tense should be used instead of the present perfect tense.\\nCorrected sentence: \"Lucy Keyes was the last thriller I saw.\"\\n\\nInput sentence: \"In the biggest cities around the world the traffic nonstop and increase every day.\"\\nAnalysis: 1. A comma was inserted after \"world\". This is required to separate the introductory phrase from the main sentence, improving readability. 2. The word \"is\" was added before \"nonstop\". This was added to ensure verb agreement in the sentence, making sure each subject (traffic) has a corresponding verb (is). 3. Changed \"increase\" to \"increasing\" - \"Increasing\" is the correct form to use after \"is\", to maintain the correct verb tense (present continuous) throughout the sentence. It describes an ongoing action.\\nCorrected sentence: \"In the biggest cities around the world, the traffic is nonstop and increasing every day.\"\\n\\nInput sentence: \"Also, the satisfaction of the customers pushes me to work harder and be better at my job.\"\\nAnalysis: The input sentence is grammatically correct, no further corrections required.\\nCorrected sentence: \"Also, the satisfaction of the customers pushes me to work harder and be better at my job.\"\\n\\nInput sentence: \"{text}\"\\nOutput sentence: \"']"
      ]
     },
     "execution_count": 5,
     "metadata": {},
     "output_type": "execute_result"
    }
   ],
   "source": [
    "fewshot_prompts"
   ]
  },
  {
   "cell_type": "code",
   "execution_count": 6,
   "metadata": {},
   "outputs": [
    {
     "name": "stdout",
     "output_type": "stream",
     "text": [
      "{\n",
      "    \"zero-shot\": [\n",
      "        \"Correct the errors. Do not paraphrase.\",\n",
      "        \"Grammar. \",\n",
      "        \"Make minimal changes to the following text such that it is grammatically correct.\",\n",
      "        \"You are an English language teacher. A student has sent you the following essay. \\n{text}\\nCorrect the errors in the essay that will best help the student to learn from their mistakes.\",\n",
      "        \"You are an English language teacher. A student has sent you the following text. \\n{text}\\nProvide a grammatical correction for the text, making only necessary changes. Do not provide any additional comments or explanations. If the input text is already correct, return it unchanged.\",\n",
      "        \"You are a grammatical error correction tool. Your task is to correct the grammaticality and spelling in the input sentence. Make the smallest possible change in order to make the sentence grammatically correct. Change as few words as possible. Do not rephrase parts of the sentence that are already grammatical. Do not change the meaning of the sentence by adding or removing information. If the sentence is already grammatically correct, you should output the original sentence without changing anything. \\n\\nInput sentence: {text}\\nOutput sentence: \",\n",
      "        \"You are a grammatical error correction tool. Your task is to correct the grammaticality and spelling in the input sentence. Make the smallest possible change in order to make the sentence grammatically correct. Change as few words as possible. Do not rephrase parts of the sentence that are already grammatical. Do not change the meaning of the sentence by adding or removing information. If the sentence is already grammatically correct, you should output the original sentence without changing anything. \\n\\nInput sentence: \\\"{text}\\\"\\nOutput sentence: \\\"\",\n",
      "        \"Please correct the following text.  Do not attempt to rewrite it into perfect English or to interpret the text. Often, things could be expressed better by paraphrase, but the task is to make minimal changes to correct the text.  Do not change anything that is correct.  Please make no changes if there are no errors.\",\n",
      "        \"Correct this to standard English:\"\n",
      "    ],\n",
      "    \"few-shot\": [\n",
      "        \"Reply with a corrected version of the input sentence with all grammatical and spelling errors fixed. If there are no errors, reply with a copy of the original sentence.\\n\\nInput sentence: I think smoke should to be ban in all restarants. \\nCorrected sentence: I think smoking should be banned at all restaurants.\\n\\nInput sentence: We discussed about the issu.\\nCorrected sentence: We discussed the issue.\\n\\nInput sentence: {text}\\nCorrected sentence:\",\n",
      "        \"You are a grammatical error correction tool. Your task is to correct the grammaticality and spelling in the input sentence. Make the smallest possible change in order to make the sentence grammatically correct. Change as few words as possible. Do not rephrase parts of the sentence that are already grammatical. Do not change the meaning of the sentence by adding or removing information. If the sentence is already grammatically correct, you should output the original sentence without changing anything. \\n\\nHere are some example corrections.\\n\\nInput sentence: \\\"I love this sport. I look forward to the weakened, to go out with my bike and my group of friends.\\\"\\nCorrected sentence: \\\"I love this sport. I look forward to the weekend to go out with my bike and my group of friends.\\\"\\n\\nInput sentence: \\\"Lucy Keyes was the last thriller I've seen.\\\"\\nCorrected sentence: \\\"Lucy Keyes was the last thriller I saw.\\\"\\n\\nInput sentence: \\\"In the biggest cities around the world the traffic nonstop and increase every day.\\\"\\nCorrected sentence: \\\"In the biggest cities around the world, the traffic is nonstop and increasing every day.\\\"\\n\\nInput sentence: \\\"Also, the satisfaction of the customers pushes me to work harder and be better at my job.\\\"\\nCorrected sentence: \\\"Also, the satisfaction of the customers pushes me to work harder and be better at my job.\\\"\\n\\nInput sentence: \\\"{text}\\\"\\nOutput sentence: \\\"\",\n",
      "        \"You are a grammatical error correction tool. Your task is to correct the grammaticality and spelling in the input sentence. Make the smallest possible change in order to make the sentence grammatically correct. Change as few words as possible. Do not rephrase parts of the sentence that are already grammatical. Do not change the meaning of the sentence by adding or removing information. If the sentence is already grammatically correct, you should output the original sentence without changing anything. \\n\\nHere are some example corrections.\\n\\nInput sentence: \\\"I love this sport. I look forward to the weakened, to go out with my bike and my group of friends.\\\"\\nAnalysis: The context indicates that the sentence is about the speaker's anticipation for the weekend, therefore \\\"weakened\\\" is probably a misspelling and should be corrected to \\\"weekend\\\". The comma should also be removed, as the conjunction \\\"to\\\" already binds the two sentence parts together.\\nCorrected sentence: \\\"I love this sport. I look forward to the weekend to go out with my bike and my group of friends.\\\"\\n\\nInput sentence: \\\"Lucy Keyes was the last thriller I've seen.\\\"\\nAnalysis: The input sentence implies that the action of watching the movie \\\"Lucy Keyes\\\" is ongoing or has relevance to the present, which is not the case. The past simple tense should be used instead of the present perfect tense.\\nCorrected sentence: \\\"Lucy Keyes was the last thriller I saw.\\\"\\n\\nInput sentence: \\\"In the biggest cities around the world the traffic nonstop and increase every day.\\\"\\nAnalysis: 1. A comma was inserted after \\\"world\\\". This is required to separate the introductory phrase from the main sentence, improving readability. 2. The word \\\"is\\\" was added before \\\"nonstop\\\". This was added to ensure verb agreement in the sentence, making sure each subject (traffic) has a corresponding verb (is). 3. Changed \\\"increase\\\" to \\\"increasing\\\" - \\\"Increasing\\\" is the correct form to use after \\\"is\\\", to maintain the correct verb tense (present continuous) throughout the sentence. It describes an ongoing action.\\nCorrected sentence: \\\"In the biggest cities around the world, the traffic is nonstop and increasing every day.\\\"\\n\\nInput sentence: \\\"Also, the satisfaction of the customers pushes me to work harder and be better at my job.\\\"\\nAnalysis: The input sentence is grammatically correct, no further corrections required.\\nCorrected sentence: \\\"Also, the satisfaction of the customers pushes me to work harder and be better at my job.\\\"\\n\\nInput sentence: \\\"{text}\\\"\\nOutput sentence: \\\"\"\n",
      "    ]\n",
      "}\n"
     ]
    }
   ],
   "source": [
    "retdict = {\n",
    "    'zero-shot': zeroshot_prompts,\n",
    "    'few-shot': fewshot_prompts\n",
    "}\n",
    "\n",
    "# pretty print dictionary\n",
    "print(json.dumps(retdict, indent=4))\n"
   ]
  },
  {
   "cell_type": "code",
   "execution_count": null,
   "metadata": {},
   "outputs": [],
   "source": [
    "prompt_output_file = 'prompts.json'\n",
    "\n",
    "# save retdict with json\n",
    "with open(os.path.join('src/prompts', prompt_output_file), 'wt') as outf:\n",
    "    json.dump(retdict, outf, indent=4)\n",
    "\n"
   ]
  },
  {
   "cell_type": "code",
   "execution_count": null,
   "metadata": {},
   "outputs": [],
   "source": []
  }
 ],
 "metadata": {
  "kernelspec": {
   "display_name": "gec-prompting-flamingo",
   "language": "python",
   "name": "python3"
  },
  "language_info": {
   "codemirror_mode": {
    "name": "ipython",
    "version": 3
   },
   "file_extension": ".py",
   "mimetype": "text/x-python",
   "name": "python",
   "nbconvert_exporter": "python",
   "pygments_lexer": "ipython3",
   "version": "3.11.4"
  },
  "orig_nbformat": 4
 },
 "nbformat": 4,
 "nbformat_minor": 2
}
